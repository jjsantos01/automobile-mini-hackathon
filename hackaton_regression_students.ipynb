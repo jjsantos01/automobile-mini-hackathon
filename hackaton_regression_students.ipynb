{
 "cells": [
  {
   "cell_type": "markdown",
   "id": "1070961c-ba91-4edb-baba-8fa6d4993a6f",
   "metadata": {},
   "source": [
    "# Hackathon 🚗\n",
    "\n",
    "¡Bienvenid@ a tu primer Hackathon!\n",
    "\n",
    "El objetivo de esta actividad es predecir los precios de los automoviles a partir de sus características. \n",
    "Vakav, una compañía de compra y venta de vehículos necesita inspeccionar cientos de vehículos cada día para fijar sus precios, sin embargo, sus mecánicos 👩🏾‍🏭 no se dan abasto y no pueden inspeccionarlos todos a profundidad.\n",
    "\n",
    "Vakav está buscando semi-automatizar 🤖 el proceso de valuación con un modelo de machine learning que le ayude a poner un precio a lo vehículos a partir de ciertos datos que ya la compañía recolecta. Vakav decicidío hacer una competencia 🏃🏾 para encontrar el mejor modelo capaz de predecir sus precios. Para ello, pone a dispocisión un dataset para el entrenamiento de los modelos en el archivo [automobile_train.csv](https://s3.us-east-2.amazonaws.com/jjsantoso.com/datasets/automobile_train.csv). Además, para evaluar los mejores modelos, la compañía se reservó un dataset de prueba que pone a disposición de los competidores [automobile_test.csv](https://s3.us-east-2.amazonaws.com/jjsantoso.com/datasets/automobile_test_x.csv).\n",
    "\n",
    "Pero **atención**, este dataset de prueba contiene las mismas variables que `automobile_train`, excepto el precio. De esta manera, ustéd usará `automobile_test` para hacer una predicción de precios y luego subirá a [su página web](https://automobile-mini-hackathon.streamlit.app/) los resultados donde la empresa lo comparará con los datos correctos y le mostrará su métrica de error. La métrica que se usará será RMSE (a menor valor, mejor).\n",
    "\n",
    "Puedes leer la documentación del dataset en: https://archive.ics.uci.edu/dataset/10/automobile"
   ]
  },
  {
   "cell_type": "code",
   "execution_count": 1,
   "id": "1baa3e38-a46d-4f12-acd8-52dce8ebb421",
   "metadata": {},
   "outputs": [
    {
     "data": {
      "text/html": [
       "<div>\n",
       "<style scoped>\n",
       "    .dataframe tbody tr th:only-of-type {\n",
       "        vertical-align: middle;\n",
       "    }\n",
       "\n",
       "    .dataframe tbody tr th {\n",
       "        vertical-align: top;\n",
       "    }\n",
       "\n",
       "    .dataframe thead th {\n",
       "        text-align: right;\n",
       "    }\n",
       "</style>\n",
       "<table border=\"1\" class=\"dataframe\">\n",
       "  <thead>\n",
       "    <tr style=\"text-align: right;\">\n",
       "      <th></th>\n",
       "      <th>symboling</th>\n",
       "      <th>normalized-losses</th>\n",
       "      <th>make</th>\n",
       "      <th>fuel-type</th>\n",
       "      <th>aspiration</th>\n",
       "      <th>num-of-doors</th>\n",
       "      <th>body-style</th>\n",
       "      <th>drive-wheels</th>\n",
       "      <th>engine-location</th>\n",
       "      <th>wheel-base</th>\n",
       "      <th>...</th>\n",
       "      <th>engine-size</th>\n",
       "      <th>fuel-system</th>\n",
       "      <th>bore</th>\n",
       "      <th>stroke</th>\n",
       "      <th>compression-ratio</th>\n",
       "      <th>horsepower</th>\n",
       "      <th>peak-rpm</th>\n",
       "      <th>city-mpg</th>\n",
       "      <th>highway-mpg</th>\n",
       "      <th>price</th>\n",
       "    </tr>\n",
       "  </thead>\n",
       "  <tbody>\n",
       "    <tr>\n",
       "      <th>0</th>\n",
       "      <td>-1</td>\n",
       "      <td>95</td>\n",
       "      <td>volvo</td>\n",
       "      <td>gas</td>\n",
       "      <td>std</td>\n",
       "      <td>four</td>\n",
       "      <td>sedan</td>\n",
       "      <td>rwd</td>\n",
       "      <td>front</td>\n",
       "      <td>109.1</td>\n",
       "      <td>...</td>\n",
       "      <td>173</td>\n",
       "      <td>mpfi</td>\n",
       "      <td>3.58</td>\n",
       "      <td>2.87</td>\n",
       "      <td>8.8</td>\n",
       "      <td>134</td>\n",
       "      <td>5500</td>\n",
       "      <td>18</td>\n",
       "      <td>23</td>\n",
       "      <td>21485.0</td>\n",
       "    </tr>\n",
       "    <tr>\n",
       "      <th>1</th>\n",
       "      <td>0</td>\n",
       "      <td>85</td>\n",
       "      <td>honda</td>\n",
       "      <td>gas</td>\n",
       "      <td>std</td>\n",
       "      <td>four</td>\n",
       "      <td>sedan</td>\n",
       "      <td>fwd</td>\n",
       "      <td>front</td>\n",
       "      <td>96.5</td>\n",
       "      <td>...</td>\n",
       "      <td>110</td>\n",
       "      <td>1bbl</td>\n",
       "      <td>3.15</td>\n",
       "      <td>3.58</td>\n",
       "      <td>9.0</td>\n",
       "      <td>86</td>\n",
       "      <td>5800</td>\n",
       "      <td>27</td>\n",
       "      <td>33</td>\n",
       "      <td>8845.0</td>\n",
       "    </tr>\n",
       "    <tr>\n",
       "      <th>2</th>\n",
       "      <td>1</td>\n",
       "      <td>148</td>\n",
       "      <td>dodge</td>\n",
       "      <td>gas</td>\n",
       "      <td>std</td>\n",
       "      <td>four</td>\n",
       "      <td>sedan</td>\n",
       "      <td>fwd</td>\n",
       "      <td>front</td>\n",
       "      <td>93.7</td>\n",
       "      <td>...</td>\n",
       "      <td>90</td>\n",
       "      <td>2bbl</td>\n",
       "      <td>2.97</td>\n",
       "      <td>3.23</td>\n",
       "      <td>9.4</td>\n",
       "      <td>68</td>\n",
       "      <td>5500</td>\n",
       "      <td>31</td>\n",
       "      <td>38</td>\n",
       "      <td>6692.0</td>\n",
       "    </tr>\n",
       "    <tr>\n",
       "      <th>3</th>\n",
       "      <td>3</td>\n",
       "      <td>186</td>\n",
       "      <td>porsche</td>\n",
       "      <td>gas</td>\n",
       "      <td>std</td>\n",
       "      <td>two</td>\n",
       "      <td>hatchback</td>\n",
       "      <td>rwd</td>\n",
       "      <td>front</td>\n",
       "      <td>94.5</td>\n",
       "      <td>...</td>\n",
       "      <td>151</td>\n",
       "      <td>mpfi</td>\n",
       "      <td>3.94</td>\n",
       "      <td>3.11</td>\n",
       "      <td>9.5</td>\n",
       "      <td>143</td>\n",
       "      <td>5500</td>\n",
       "      <td>19</td>\n",
       "      <td>27</td>\n",
       "      <td>22018.0</td>\n",
       "    </tr>\n",
       "    <tr>\n",
       "      <th>4</th>\n",
       "      <td>-1</td>\n",
       "      <td>95</td>\n",
       "      <td>volvo</td>\n",
       "      <td>gas</td>\n",
       "      <td>std</td>\n",
       "      <td>four</td>\n",
       "      <td>sedan</td>\n",
       "      <td>rwd</td>\n",
       "      <td>front</td>\n",
       "      <td>109.1</td>\n",
       "      <td>...</td>\n",
       "      <td>141</td>\n",
       "      <td>mpfi</td>\n",
       "      <td>3.78</td>\n",
       "      <td>3.15</td>\n",
       "      <td>9.5</td>\n",
       "      <td>114</td>\n",
       "      <td>5400</td>\n",
       "      <td>23</td>\n",
       "      <td>28</td>\n",
       "      <td>16845.0</td>\n",
       "    </tr>\n",
       "  </tbody>\n",
       "</table>\n",
       "<p>5 rows × 26 columns</p>\n",
       "</div>"
      ],
      "text/plain": [
       "   symboling normalized-losses     make fuel-type aspiration num-of-doors  \\\n",
       "0         -1                95    volvo       gas        std         four   \n",
       "1          0                85    honda       gas        std         four   \n",
       "2          1               148    dodge       gas        std         four   \n",
       "3          3               186  porsche       gas        std          two   \n",
       "4         -1                95    volvo       gas        std         four   \n",
       "\n",
       "  body-style drive-wheels engine-location  wheel-base  ...  engine-size  \\\n",
       "0      sedan          rwd           front       109.1  ...          173   \n",
       "1      sedan          fwd           front        96.5  ...          110   \n",
       "2      sedan          fwd           front        93.7  ...           90   \n",
       "3  hatchback          rwd           front        94.5  ...          151   \n",
       "4      sedan          rwd           front       109.1  ...          141   \n",
       "\n",
       "   fuel-system  bore  stroke compression-ratio horsepower  peak-rpm city-mpg  \\\n",
       "0         mpfi  3.58    2.87               8.8        134      5500       18   \n",
       "1         1bbl  3.15    3.58               9.0         86      5800       27   \n",
       "2         2bbl  2.97    3.23               9.4         68      5500       31   \n",
       "3         mpfi  3.94    3.11               9.5        143      5500       19   \n",
       "4         mpfi  3.78    3.15               9.5        114      5400       23   \n",
       "\n",
       "  highway-mpg    price  \n",
       "0          23  21485.0  \n",
       "1          33   8845.0  \n",
       "2          38   6692.0  \n",
       "3          27  22018.0  \n",
       "4          28  16845.0  \n",
       "\n",
       "[5 rows x 26 columns]"
      ]
     },
     "execution_count": 1,
     "metadata": {},
     "output_type": "execute_result"
    }
   ],
   "source": [
    "import pandas as pd\n",
    "\n",
    "URL_TRAIN_DATA = \"https://s3.us-east-2.amazonaws.com/jjsantoso.com/datasets/automobile_train.csv\"\n",
    "auto_train = pd.read_csv(URL_TRAIN_DATA)\n",
    "auto_train.head()"
   ]
  },
  {
   "cell_type": "markdown",
   "id": "fa8628bf-d5b1-4743-bcba-3bdc6361835e",
   "metadata": {},
   "source": [
    "## Procesamiento de datos"
   ]
  },
  {
   "cell_type": "markdown",
   "id": "028e4b01-5041-48c9-a6bf-e762ef7b38ce",
   "metadata": {},
   "source": [
    "* Verifique el tipo de datos de cada columna. Algunas de estas columnas deberían ser numéricas, pero aparecen como objects. Si planea usar alguna de estas columnas para su modelo, debe convertirlas en numéricas y luego rellene los missing values resultantes de esa variable con su media o mediana.\n",
    "* Selecciones sus variables $X$ y su variable $y$"
   ]
  },
  {
   "cell_type": "code",
   "execution_count": null,
   "id": "bf331bfd-4c64-4b2c-8e6d-42255d91a3e3",
   "metadata": {
    "slideshow": {
     "slide_type": ""
    },
    "tags": [
     "solution"
    ]
   },
   "outputs": [],
   "source": []
  },
  {
   "cell_type": "markdown",
   "id": "5bd4e9f4-5669-4758-b4c3-142c2089dd2d",
   "metadata": {},
   "source": [
    "## Entrenamiento de modelo\n",
    "* Entrene todos los modelos de regresión que pueda usando los datos de entrenamiento. Evalúe el RMSE de cada uno y seleccione los mejores modelos."
   ]
  },
  {
   "cell_type": "code",
   "execution_count": null,
   "id": "abea22ee-41b1-4c6e-9a00-c8dc9b114646",
   "metadata": {
    "slideshow": {
     "slide_type": ""
    },
    "tags": [
     "solution"
    ]
   },
   "outputs": [],
   "source": []
  },
  {
   "cell_type": "markdown",
   "id": "5d363dd8-9914-44a6-819a-859e166f0b40",
   "metadata": {
    "slideshow": {
     "slide_type": ""
    },
    "tags": []
   },
   "source": [
    "## Evaluación oficial\n",
    "* Esta es la que cuenta para el ranking oficial.\n",
    "* Para crear el archivo con tus predicciones puedes usar el siguiente código de ejemplo. <span style=\"color: blue\">Reemplace la variable `MY_TRAINED_MODEL` con su modelo ya entrenado.</span>.\n",
    "* Esto generará un archivo `my_regression_prediction.csv` en el mismo folder donde está el notebook. Puede cambiar el nombre del archivo para diferenciar sus modelos, por ejemplo, \"linear_regression_prediction\", \"rf_prediction\", etc\n",
    "* Suba el archivo en la página de evaluación: https://automobile-mini-hackathon.streamlit.app/"
   ]
  },
  {
   "cell_type": "code",
   "execution_count": null,
   "id": "9a39f398-2c79-4f27-bd04-c9c02cc73f37",
   "metadata": {
    "slideshow": {
     "slide_type": ""
    },
    "tags": []
   },
   "outputs": [],
   "source": [
    "X_test = pd.read_csv(\"https://s3.us-east-2.amazonaws.com/jjsantoso.com/datasets/automobile_test_x.csv\")\n",
    "y_pred_test = MY_TRAINED_MODEL.predict(X_test[explanatory_variables])\n",
    "\n",
    "def create_csv_predictions(y_pred_test, filemane=\"test_predictions\"):\n",
    "    predictions = pd.DataFrame({\"price\": y_pred_test})\n",
    "    predictions.to_csv(f\"{filemane}.csv\", index=False)\n",
    "\n",
    "create_csv_predictions(y_pred_test, \"my_regression_prediction\")"
   ]
  },
  {
   "cell_type": "code",
   "execution_count": 14,
   "id": "26e1330d-827d-4a6b-a06a-31760610c4e2",
   "metadata": {
    "slideshow": {
     "slide_type": ""
    },
    "tags": [
     "solution"
    ]
   },
   "outputs": [],
   "source": []
  }
 ],
 "metadata": {
  "kernelspec": {
   "display_name": "Python [conda env:py312]",
   "language": "python",
   "name": "conda-env-py312-py"
  },
  "language_info": {
   "codemirror_mode": {
    "name": "ipython",
    "version": 3
   },
   "file_extension": ".py",
   "mimetype": "text/x-python",
   "name": "python",
   "nbconvert_exporter": "python",
   "pygments_lexer": "ipython3",
   "version": "3.12.3"
  }
 },
 "nbformat": 4,
 "nbformat_minor": 5
}
